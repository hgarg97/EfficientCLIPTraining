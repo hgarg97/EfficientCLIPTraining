{
 "cells": [
  {
   "cell_type": "markdown",
   "metadata": {
    "id": "cwwBXvIbUXA_"
   },
   "source": [
    "# Contrastive Language-Image Pretraining with SogCLR"
   ]
  },
  {
   "cell_type": "markdown",
   "metadata": {
    "id": "kVyLXcCiUkeF"
   },
   "source": [
    "### **Introduction**\n",
    "\n",
    "In this tutorial, you will learn how to conduct contrastive language-image pretraining by optimizing the [Global Contrastive Loss](https://arxiv.org/abs/2202.12387) (GCL) on a subset of the [Conceptual Captions](https://ai.google.com/research/ConceptualCaptions/) dataset. Also, you will learn how to evaluate the model on retrieval task using the [MSCOCO](https://cocodataset.org/#home) dataset and zero-shot classification task using the [ImageNet](https://www.image-net.org/challenges/LSVRC/index.php) dataset. The code is based on [iSogCLR's](https://github.com/zhqiu/contrastive-learning-iSogCLR) codebase, which includes the implementation of CLIP, SogCLR and iSogCLR."
   ]
  },
  {
   "cell_type": "markdown",
   "metadata": {
    "id": "DsO954DCVdgn"
   },
   "source": [
    "### Preparation\n",
    "\n",
    "First, we:\n",
    "\n",
    "1. Download the source code and data\n",
    "2. Install required packages"
   ]
  },
  {
   "cell_type": "code",
   "execution_count": 5,
   "metadata": {},
   "outputs": [
    {
     "name": "stdout",
     "output_type": "stream",
     "text": [
      "Collecting gdown\n",
      "  Downloading gdown-5.2.0-py3-none-any.whl.metadata (5.8 kB)\n",
      "Requirement already satisfied: beautifulsoup4 in /scratch/user/hgarg97/.conda/envs/dlEnv/lib/python3.12/site-packages (from gdown) (4.12.3)\n",
      "Requirement already satisfied: filelock in /scratch/user/hgarg97/.conda/envs/dlEnv/lib/python3.12/site-packages (from gdown) (3.13.1)\n",
      "Requirement already satisfied: requests[socks] in /scratch/user/hgarg97/.conda/envs/dlEnv/lib/python3.12/site-packages (from gdown) (2.32.3)\n",
      "Collecting tqdm (from gdown)\n",
      "  Downloading tqdm-4.67.1-py3-none-any.whl.metadata (57 kB)\n",
      "Requirement already satisfied: soupsieve>1.2 in /scratch/user/hgarg97/.conda/envs/dlEnv/lib/python3.12/site-packages (from beautifulsoup4->gdown) (2.5)\n",
      "Requirement already satisfied: charset-normalizer<4,>=2 in /scratch/user/hgarg97/.conda/envs/dlEnv/lib/python3.12/site-packages (from requests[socks]->gdown) (3.3.2)\n",
      "Requirement already satisfied: idna<4,>=2.5 in /scratch/user/hgarg97/.conda/envs/dlEnv/lib/python3.12/site-packages (from requests[socks]->gdown) (3.7)\n",
      "Requirement already satisfied: urllib3<3,>=1.21.1 in /scratch/user/hgarg97/.conda/envs/dlEnv/lib/python3.12/site-packages (from requests[socks]->gdown) (2.2.3)\n",
      "Requirement already satisfied: certifi>=2017.4.17 in /scratch/user/hgarg97/.conda/envs/dlEnv/lib/python3.12/site-packages (from requests[socks]->gdown) (2024.8.30)\n",
      "Requirement already satisfied: PySocks!=1.5.7,>=1.5.6 in /scratch/user/hgarg97/.conda/envs/dlEnv/lib/python3.12/site-packages (from requests[socks]->gdown) (1.7.1)\n",
      "Downloading gdown-5.2.0-py3-none-any.whl (18 kB)\n",
      "Downloading tqdm-4.67.1-py3-none-any.whl (78 kB)\n",
      "Installing collected packages: tqdm, gdown\n",
      "Successfully installed gdown-5.2.0 tqdm-4.67.1\n"
     ]
    }
   ],
   "source": [
    "!pip install gdown"
   ]
  },
  {
   "cell_type": "code",
   "execution_count": 1,
   "metadata": {
    "colab": {
     "base_uri": "https://localhost:8080/"
    },
    "id": "i3wc5FDn51l6",
    "outputId": "37432b0a-04e8-4b1f-a518-4d8d3c7b9e75"
   },
   "outputs": [],
   "source": [
    "#!git clone -b project https://github.com/hgarg97/EfficientCLIPTraining.git iSogCLR\n",
    "\n",
    "!export PYTHONPATH=\"$PYTHONPATH:./iSogCLR/bimodal_exps\"\n",
    "!export HUGGINGFACE_HUB_CACHE='./checkpoints/huggingface'\n",
    "!mkdir checkpoints"
   ]
  },
  {
   "cell_type": "code",
   "execution_count": 2,
   "metadata": {
    "colab": {
     "base_uri": "https://localhost:8080/"
    },
    "id": "y9Z9qAdsaq8Y",
    "outputId": "3a5f71ab-b53e-45ef-a7e8-b53d55d78ac0"
   },
   "outputs": [
    {
     "name": "stdout",
     "output_type": "stream",
     "text": [
      "1\n",
      "2\n"
     ]
    }
   ],
   "source": [
    "# Creating datasets folder\n",
    "\n",
    "!mkdir datasets\n",
    "print(1)\n",
    "!mkdir -p datasets/imagenet\n",
    "print(2)"
   ]
  },
  {
   "cell_type": "code",
   "execution_count": 6,
   "metadata": {
    "colab": {
     "base_uri": "https://localhost:8080/"
    },
    "id": "xM1XaqqTaW1n",
    "outputId": "0b3674d9-56eb-4dca-ac9a-e829f1adbb78"
   },
   "outputs": [
    {
     "name": "stdout",
     "output_type": "stream",
     "text": [
      "Downloading...\n",
      "From: https://drive.google.com/uc?id=1riKYZDPW2QQLTKX4OWDZK7CpCfM5MLg6\n",
      "To: /scratch/user/hgarg97/dlProjectClip/clip_train.tar.gz\n",
      "100%|██████████████████████████████████████| 4.06M/4.06M [00:00<00:00, 27.4MB/s]\n",
      "3\n"
     ]
    }
   ],
   "source": [
    "# Downloading and Unzipping clip.tar.gz file\n",
    "\n",
    "!gdown 1riKYZDPW2QQLTKX4OWDZK7CpCfM5MLg6    # clip.tar.gz\n",
    "\n",
    "!tar xf clip_train.tar.gz\n",
    "print(3)"
   ]
  },
  {
   "cell_type": "code",
   "execution_count": 7,
   "metadata": {
    "colab": {
     "base_uri": "https://localhost:8080/"
    },
    "id": "YPQulAEdaw3d",
    "outputId": "1ff7fb0d-4f5c-41f7-f690-a9a4391586b4"
   },
   "outputs": [
    {
     "name": "stdout",
     "output_type": "stream",
     "text": [
      "Downloading...\n",
      "From (original): https://drive.google.com/uc?id=17lYK5zF0GpSZVXlMcPOHD_nucA2qtdrz\n",
      "From (redirected): https://drive.google.com/uc?id=17lYK5zF0GpSZVXlMcPOHD_nucA2qtdrz&confirm=t&uuid=c9038775-d52b-49d8-bcc3-e62873c166f3\n",
      "To: /scratch/user/hgarg97/dlProjectClip/cc3m_subset_100k.tar.gz\n",
      "100%|███████████████████████████████████████| 3.07G/3.07G [00:18<00:00, 165MB/s]\n",
      "4\n"
     ]
    }
   ],
   "source": [
    "# Downloading and Unzipping cc3m_subset_100k.tar.gz file\n",
    "\n",
    "!gdown 17lYK5zF0GpSZVXlMcPOHD_nucA2qtdrz    # cc3m_subset_100k.tar.gz\n",
    "\n",
    "!tar xf cc3m_subset_100k.tar.gz -C datasets\n",
    "print(4)"
   ]
  },
  {
   "cell_type": "code",
   "execution_count": 8,
   "metadata": {
    "id": "wICT96ymbA1a"
   },
   "outputs": [
    {
     "name": "stdout",
     "output_type": "stream",
     "text": [
      "Downloading...\n",
      "From (original): https://drive.google.com/uc?id=1XK6L_jV1ImBzLi4_7tOG7gYCJBjzHWzv\n",
      "From (redirected): https://drive.google.com/uc?id=1XK6L_jV1ImBzLi4_7tOG7gYCJBjzHWzv&confirm=t&uuid=911b6d19-65e8-4ed6-b6d2-e21881b7c0b2\n",
      "To: /scratch/user/hgarg97/dlProjectClip/mscoco_val.tar.gz\n",
      "100%|█████████████████████████████████████████| 819M/819M [00:05<00:00, 159MB/s]\n",
      "5\n"
     ]
    }
   ],
   "source": [
    "# Downloading and Unzipping ms_coco_val.tar.gz file\n",
    "\n",
    "!gdown 1XK6L_jV1ImBzLi4_7tOG7gYCJBjzHWzv    # ms_coco_val.tar.gz\n",
    "\n",
    "!tar xf mscoco_val.tar.gz -C datasets\n",
    "print(5)"
   ]
  },
  {
   "cell_type": "code",
   "execution_count": 9,
   "metadata": {
    "id": "kuGetVZ2V2Wa"
   },
   "outputs": [
    {
     "name": "stdout",
     "output_type": "stream",
     "text": [
      "Downloading...\n",
      "From (original): https://drive.google.com/uc?id=1-gT5tg3t39TbZ68jd7YpUrHsXmDO-xCy\n",
      "From (redirected): https://drive.google.com/uc?id=1-gT5tg3t39TbZ68jd7YpUrHsXmDO-xCy&confirm=t&uuid=49400df1-2cb8-4222-9ab6-e6f7ba0ebc61\n",
      "To: /scratch/user/hgarg97/dlProjectClip/val.tar\n",
      "100%|███████████████████████████████████████| 6.75G/6.75G [00:41<00:00, 161MB/s]\n",
      "6\n"
     ]
    }
   ],
   "source": [
    "# Downloading and Unzipping val.tar file\n",
    "\n",
    "!gdown 1-gT5tg3t39TbZ68jd7YpUrHsXmDO-xCy    # val.tar\n",
    "\n",
    "!tar xf val.tar -C datasets/imagenet\n",
    "print(6)"
   ]
  },
  {
   "cell_type": "code",
   "execution_count": null,
   "metadata": {
    "id": "NVqecTtSchT8"
   },
   "outputs": [
    {
     "name": "stdout",
     "output_type": "stream",
     "text": [
      "Defaulting to user installation because normal site-packages is not writeable\n",
      "Looking in links: https://download.pytorch.org/whl/torch_stable.html\n",
      "Collecting braceexpand==0.1.7\n",
      "  Downloading braceexpand-0.1.7-py2.py3-none-any.whl (5.9 kB)\n",
      "Collecting certifi==2023.7.22\n",
      "  Downloading certifi-2023.7.22-py3-none-any.whl (158 kB)\n",
      "\u001b[K     |████████████████████████████████| 158 kB 7.0 MB/s eta 0:00:01\n",
      "\u001b[?25hCollecting charset-normalizer==3.3.0\n",
      "  Downloading charset_normalizer-3.3.0-cp39-cp39-manylinux_2_17_x86_64.manylinux2014_x86_64.whl (138 kB)\n",
      "\u001b[K     |████████████████████████████████| 138 kB 33.5 MB/s eta 0:00:01\n",
      "\u001b[?25hCollecting colorama==0.4.6\n",
      "  Downloading colorama-0.4.6-py2.py3-none-any.whl (25 kB)\n",
      "Collecting filelock==3.12.4\n",
      "  Downloading filelock-3.12.4-py3-none-any.whl (11 kB)\n",
      "Collecting fsspec==2023.9.2\n",
      "  Downloading fsspec-2023.9.2-py3-none-any.whl (173 kB)\n",
      "\u001b[K     |████████████████████████████████| 173 kB 42.8 MB/s eta 0:00:01\n",
      "\u001b[?25hCollecting ftfy==6.1.1\n",
      "  Downloading ftfy-6.1.1-py3-none-any.whl (53 kB)\n",
      "\u001b[K     |████████████████████████████████| 53 kB 37 kB/s s eta 0:00:01\n",
      "\u001b[?25hCollecting huggingface-hub==0.16.4\n",
      "  Downloading huggingface_hub-0.16.4-py3-none-any.whl (268 kB)\n",
      "\u001b[K     |████████████████████████████████| 268 kB 39.9 MB/s eta 0:00:01\n",
      "\u001b[?25hCollecting idna==3.4\n",
      "  Downloading idna-3.4-py3-none-any.whl (61 kB)\n",
      "\u001b[K     |████████████████████████████████| 61 kB 82 kB/s s eta 0:00:01\n",
      "\u001b[?25hCollecting Jinja2==3.1.2\n",
      "  Downloading Jinja2-3.1.2-py3-none-any.whl (133 kB)\n",
      "\u001b[K     |████████████████████████████████| 133 kB 36.0 MB/s eta 0:00:01\n",
      "\u001b[?25hCollecting MarkupSafe==2.1.3\n",
      "  Downloading MarkupSafe-2.1.3-cp39-cp39-manylinux_2_17_x86_64.manylinux2014_x86_64.whl (25 kB)\n",
      "Collecting mpmath==1.3.0\n",
      "  Downloading mpmath-1.3.0-py3-none-any.whl (536 kB)\n",
      "\u001b[K     |████████████████████████████████| 536 kB 73.6 MB/s eta 0:00:01\n",
      "\u001b[?25hCollecting networkx==3.1\n",
      "  Downloading networkx-3.1-py3-none-any.whl (2.1 MB)\n",
      "\u001b[K     |████████████████████████████████| 2.1 MB 25.4 MB/s eta 0:00:01\n",
      "\u001b[?25hCollecting numpy==1.26.0\n",
      "  Downloading numpy-1.26.0-cp39-cp39-manylinux_2_17_x86_64.manylinux2014_x86_64.whl (18.2 MB)\n",
      "\u001b[K     |████████████████████████████████| 18.2 MB 50.8 MB/s eta 0:00:01\n",
      "\u001b[?25hCollecting packaging==23.2\n",
      "  Downloading packaging-23.2-py3-none-any.whl (53 kB)\n",
      "\u001b[K     |████████████████████████████████| 53 kB 1.0 MB/s  eta 0:00:01\n",
      "\u001b[?25hCollecting pandas==2.1.1\n",
      "  Downloading pandas-2.1.1-cp39-cp39-manylinux_2_17_x86_64.manylinux2014_x86_64.whl (12.3 MB)\n",
      "\u001b[K     |████████████████████████████████| 12.3 MB 15.5 MB/s eta 0:00:01\n",
      "\u001b[?25hCollecting Pillow==10.0.1\n",
      "  Downloading Pillow-10.0.1-cp39-cp39-manylinux_2_17_x86_64.manylinux2014_x86_64.whl (3.5 MB)\n",
      "\u001b[K     |████████████████████████████████| 3.5 MB 65.1 MB/s eta 0:00:01\n",
      "\u001b[?25hCollecting pip==23.2.1\n",
      "  Downloading pip-23.2.1-py3-none-any.whl (2.1 MB)\n",
      "\u001b[K     |████████████████████████████████| 2.1 MB 28.5 MB/s eta 0:00:01\n",
      "\u001b[?25hCollecting pyreadline3==3.4.1\n",
      "  Downloading pyreadline3-3.4.1-py3-none-any.whl (95 kB)\n",
      "\u001b[K     |████████████████████████████████| 95 kB 3.4 MB/s s eta 0:00:01\n",
      "\u001b[?25hRequirement already satisfied: python-dateutil==2.8.2 in /sw/eb/sw/Anaconda3/2021.11/lib/python3.9/site-packages (from -r ./iSogCLR/requirements.txt (line 21)) (2.8.2)\n",
      "Collecting pytz==2023.3.post1\n",
      "  Downloading pytz-2023.3.post1-py2.py3-none-any.whl (502 kB)\n",
      "\u001b[K     |████████████████████████████████| 502 kB 29.7 MB/s eta 0:00:01\n",
      "\u001b[?25hCollecting PyYAML==6.0.1\n",
      "  Downloading PyYAML-6.0.1-cp39-cp39-manylinux_2_17_x86_64.manylinux2014_x86_64.whl (738 kB)\n",
      "\u001b[K     |████████████████████████████████| 738 kB 45.4 MB/s eta 0:00:01\n",
      "\u001b[?25hCollecting regex==2023.10.3\n",
      "  Downloading regex-2023.10.3-cp39-cp39-manylinux_2_17_x86_64.manylinux2014_x86_64.whl (773 kB)\n",
      "\u001b[K     |████████████████████████████████| 773 kB 46.7 MB/s eta 0:00:01\n",
      "\u001b[?25hCollecting requests==2.31.0\n",
      "  Downloading requests-2.31.0-py3-none-any.whl (62 kB)\n",
      "\u001b[K     |████████████████████████████████| 62 kB 963 kB/s  eta 0:00:01\n",
      "\u001b[?25hCollecting safetensors==0.3.3\n",
      "  Downloading safetensors-0.3.3-cp39-cp39-manylinux_2_17_x86_64.manylinux2014_x86_64.whl (1.3 MB)\n",
      "\u001b[K     |████████████████████████████████| 1.3 MB 49.5 MB/s eta 0:00:01\n",
      "\u001b[?25hCollecting setuptools==68.2.2\n",
      "  Downloading setuptools-68.2.2-py3-none-any.whl (807 kB)\n",
      "\u001b[K     |████████████████████████████████| 807 kB 46.4 MB/s eta 0:00:01\n",
      "\u001b[?25hRequirement already satisfied: six==1.16.0 in /sw/eb/sw/Anaconda3/2021.11/lib/python3.9/site-packages (from -r ./iSogCLR/requirements.txt (line 28)) (1.16.0)\n",
      "Collecting sympy==1.12\n",
      "  Downloading sympy-1.12-py3-none-any.whl (5.7 MB)\n",
      "\u001b[K     |████████████████████████████████| 5.7 MB 61.4 MB/s eta 0:00:01\n",
      "\u001b[?25hCollecting timm==0.9.7\n",
      "  Downloading timm-0.9.7-py3-none-any.whl (2.2 MB)\n",
      "\u001b[K     |████████████████████████████████| 2.2 MB 35.7 MB/s eta 0:00:01\n",
      "\u001b[?25hCollecting tokenizers==0.14.0\n",
      "  Downloading tokenizers-0.14.0-cp39-cp39-manylinux_2_17_x86_64.manylinux2014_x86_64.whl (3.8 MB)\n",
      "\u001b[K     |████████████████████████████████| 3.8 MB 35.6 MB/s eta 0:00:01\n",
      "\u001b[?25hCollecting torch==2.0.1+cu118\n",
      "  Downloading https://download.pytorch.org/whl/cu118/torch-2.0.1%2Bcu118-cp39-cp39-linux_x86_64.whl (2267.3 MB)\n",
      "\u001b[K     |█████                           | 350.2 MB 153.4 MB/s eta 0:00:13"
     ]
    },
    {
     "name": "stderr",
     "output_type": "stream",
     "text": [
      "IOPub data rate exceeded.\n",
      "The Jupyter server will temporarily stop sending output\n",
      "to the client in order to avoid crashing it.\n",
      "To change this limit, set the config variable\n",
      "`--ServerApp.iopub_data_rate_limit`.\n",
      "\n",
      "Current values:\n",
      "ServerApp.iopub_data_rate_limit=1000000.0 (bytes/sec)\n",
      "ServerApp.rate_limit_window=3.0 (secs)\n",
      "\n"
     ]
    },
    {
     "name": "stdout",
     "output_type": "stream",
     "text": [
      "\u001b[K     |███████████▋                    | 824.6 MB 153.4 MB/s eta 0:00:10"
     ]
    },
    {
     "name": "stderr",
     "output_type": "stream",
     "text": [
      "IOPub data rate exceeded.\n",
      "The Jupyter server will temporarily stop sending output\n",
      "to the client in order to avoid crashing it.\n",
      "To change this limit, set the config variable\n",
      "`--ServerApp.iopub_data_rate_limit`.\n",
      "\n",
      "Current values:\n",
      "ServerApp.iopub_data_rate_limit=1000000.0 (bytes/sec)\n",
      "ServerApp.rate_limit_window=3.0 (secs)\n",
      "\n"
     ]
    },
    {
     "name": "stdout",
     "output_type": "stream",
     "text": [
      "\u001b[K     |██████████████████▍             | 1305.0 MB 153.6 MB/s eta 0:00:07"
     ]
    },
    {
     "name": "stderr",
     "output_type": "stream",
     "text": [
      "IOPub data rate exceeded.\n",
      "The Jupyter server will temporarily stop sending output\n",
      "to the client in order to avoid crashing it.\n",
      "To change this limit, set the config variable\n",
      "`--ServerApp.iopub_data_rate_limit`.\n",
      "\n",
      "Current values:\n",
      "ServerApp.iopub_data_rate_limit=1000000.0 (bytes/sec)\n",
      "ServerApp.rate_limit_window=3.0 (secs)\n",
      "\n"
     ]
    },
    {
     "name": "stdout",
     "output_type": "stream",
     "text": [
      "\u001b[K     |████████████████████████▋       | 1745.4 MB 153.9 MB/s eta 0:00:04"
     ]
    },
    {
     "name": "stderr",
     "output_type": "stream",
     "text": [
      "IOPub data rate exceeded.\n",
      "The Jupyter server will temporarily stop sending output\n",
      "to the client in order to avoid crashing it.\n",
      "To change this limit, set the config variable\n",
      "`--ServerApp.iopub_data_rate_limit`.\n",
      "\n",
      "Current values:\n",
      "ServerApp.iopub_data_rate_limit=1000000.0 (bytes/sec)\n",
      "ServerApp.rate_limit_window=3.0 (secs)\n",
      "\n"
     ]
    },
    {
     "name": "stdout",
     "output_type": "stream",
     "text": [
      "\u001b[K     |██████████████████████████████▌ | 2157.4 MB 154.6 MB/s eta 0:00:01"
     ]
    },
    {
     "name": "stderr",
     "output_type": "stream",
     "text": [
      "IOPub data rate exceeded.\n",
      "The Jupyter server will temporarily stop sending output\n",
      "to the client in order to avoid crashing it.\n",
      "To change this limit, set the config variable\n",
      "`--ServerApp.iopub_data_rate_limit`.\n",
      "\n",
      "Current values:\n",
      "ServerApp.iopub_data_rate_limit=1000000.0 (bytes/sec)\n",
      "ServerApp.rate_limit_window=3.0 (secs)\n",
      "\n"
     ]
    },
    {
     "name": "stdout",
     "output_type": "stream",
     "text": [
      "\u001b[K     |████████████████████████████████| 2267.3 MB 5.6 kB/s \n",
      "\u001b[?25hCollecting torchvision==0.15.2+cu118\n",
      "  Downloading https://download.pytorch.org/whl/cu118/torchvision-0.15.2%2Bcu118-cp39-cp39-linux_x86_64.whl (6.1 MB)\n",
      "\u001b[K     |████████████████████████████████| 6.1 MB 84.4 MB/s eta 0:00:01\n",
      "\u001b[?25hCollecting tqdm==4.66.1\n",
      "  Downloading tqdm-4.66.1-py3-none-any.whl (78 kB)\n",
      "\u001b[K     |████████████████████████████████| 78 kB 6.2 MB/s  eta 0:00:01\n",
      "\u001b[?25hCollecting transformers==4.34.0\n",
      "  Downloading transformers-4.34.0-py3-none-any.whl (7.7 MB)\n",
      "\u001b[K     |████████████████████████████████| 7.7 MB 31.1 MB/s eta 0:00:01\n",
      "\u001b[?25hCollecting typing_extensions==4.8.0\n",
      "  Downloading typing_extensions-4.8.0-py3-none-any.whl (31 kB)\n",
      "Collecting tzdata==2023.3\n",
      "  Downloading tzdata-2023.3-py2.py3-none-any.whl (341 kB)\n",
      "\u001b[K     |████████████████████████████████| 341 kB 105.4 MB/s eta 0:00:01\n",
      "\u001b[?25hCollecting urllib3==2.0.6\n",
      "  Downloading urllib3-2.0.6-py3-none-any.whl (123 kB)\n",
      "\u001b[K     |████████████████████████████████| 123 kB 81.2 MB/s eta 0:00:01\n",
      "\u001b[?25hCollecting wcwidth==0.2.8\n",
      "  Downloading wcwidth-0.2.8-py2.py3-none-any.whl (31 kB)\n",
      "Collecting webdataset==0.2.57\n",
      "  Downloading webdataset-0.2.57-py3-none-any.whl (60 kB)\n",
      "\u001b[K     |████████████████████████████████| 60 kB 6.2 MB/s  eta 0:00:01\n",
      "\u001b[?25hCollecting wheel==0.41.2\n",
      "  Downloading wheel-0.41.2-py3-none-any.whl (64 kB)\n",
      "\u001b[K     |████████████████████████████████| 64 kB 2.3 MB/s  eta 0:00:01\n",
      "\u001b[?25hCollecting opencv-python==4.10.0.84\n",
      "  Downloading opencv_python-4.10.0.84-cp37-abi3-manylinux_2_17_x86_64.manylinux2014_x86_64.whl (62.5 MB)\n",
      "\u001b[K     |████████████████████████████████| 62.5 MB 15 kB/s s eta 0:00:01\n",
      "\u001b[?25hCollecting libauc==1.4.0\n",
      "  Downloading libauc-1.4.0-py3-none-any.whl (130 kB)\n",
      "\u001b[K     |████████████████████████████████| 130 kB 21.0 MB/s eta 0:00:01\n",
      "\u001b[?25hCollecting triton==2.0.0\n",
      "  Downloading triton-2.0.0-1-cp39-cp39-manylinux2014_x86_64.manylinux_2_17_x86_64.whl (63.3 MB)\n",
      "\u001b[K     |████████████████████████████████| 63.3 MB 32.9 MB/s eta 0:00:01\n",
      "\u001b[?25hRequirement already satisfied: scipy in /sw/eb/sw/Anaconda3/2021.11/lib/python3.9/site-packages (from libauc==1.4.0->-r ./iSogCLR/requirements.txt (line 43)) (1.7.1)\n",
      "Collecting ogb\n",
      "  Downloading ogb-1.3.6-py3-none-any.whl (78 kB)\n",
      "\u001b[K     |████████████████████████████████| 78 kB 5.9 MB/s  eta 0:00:01\n",
      "\u001b[?25hRequirement already satisfied: scikit-learn in /sw/eb/sw/Anaconda3/2021.11/lib/python3.9/site-packages (from libauc==1.4.0->-r ./iSogCLR/requirements.txt (line 43)) (0.24.2)\n",
      "Collecting torch-geometric\n",
      "  Downloading torch_geometric-2.6.1-py3-none-any.whl (1.1 MB)\n",
      "\u001b[K     |████████████████████████████████| 1.1 MB 25.1 MB/s eta 0:00:01\n",
      "\u001b[?25hCollecting cmake\n",
      "  Downloading cmake-3.31.1-py3-none-manylinux_2_17_x86_64.manylinux2014_x86_64.whl (27.8 MB)\n",
      "\u001b[K     |████████████████████████████████| 27.8 MB 26.2 MB/s eta 0:00:01\n",
      "\u001b[?25hCollecting lit\n",
      "  Downloading lit-18.1.8-py3-none-any.whl (96 kB)\n",
      "\u001b[K     |████████████████████████████████| 96 kB 4.0 MB/s  eta 0:00:01\n",
      "\u001b[?25hCollecting outdated>=0.2.0\n",
      "  Downloading outdated-0.2.2-py2.py3-none-any.whl (7.5 kB)\n",
      "Collecting littleutils\n",
      "  Downloading littleutils-0.2.4-py3-none-any.whl (8.1 kB)\n",
      "Requirement already satisfied: joblib>=0.11 in /sw/eb/sw/Anaconda3/2021.11/lib/python3.9/site-packages (from scikit-learn->libauc==1.4.0->-r ./iSogCLR/requirements.txt (line 43)) (1.1.0)\n",
      "Requirement already satisfied: threadpoolctl>=2.0.0 in /sw/eb/sw/Anaconda3/2021.11/lib/python3.9/site-packages (from scikit-learn->libauc==1.4.0->-r ./iSogCLR/requirements.txt (line 43)) (2.2.0)\n",
      "Collecting scipy\n",
      "  Downloading scipy-1.13.1-cp39-cp39-manylinux_2_17_x86_64.manylinux2014_x86_64.whl (38.6 MB)\n",
      "\u001b[K     |████████████████████████████████| 38.6 MB 33.5 MB/s eta 0:00:01\n",
      "\u001b[?25hCollecting aiohttp\n",
      "  Downloading aiohttp-3.11.8-cp39-cp39-manylinux_2_17_x86_64.manylinux2014_x86_64.whl (1.6 MB)\n",
      "\u001b[K     |████████████████████████████████| 1.6 MB 49.5 MB/s eta 0:00:01\n",
      "\u001b[?25hRequirement already satisfied: psutil>=5.8.0 in /sw/eb/sw/Anaconda3/2021.11/lib/python3.9/site-packages (from torch-geometric->libauc==1.4.0->-r ./iSogCLR/requirements.txt (line 43)) (5.8.0)\n",
      "Requirement already satisfied: pyparsing in /sw/eb/sw/Anaconda3/2021.11/lib/python3.9/site-packages (from torch-geometric->libauc==1.4.0->-r ./iSogCLR/requirements.txt (line 43)) (3.0.4)\n",
      "Collecting aiosignal>=1.1.2\n",
      "  Downloading aiosignal-1.3.1-py3-none-any.whl (7.6 kB)\n",
      "Collecting frozenlist>=1.1.1\n",
      "  Downloading frozenlist-1.5.0-cp39-cp39-manylinux_2_5_x86_64.manylinux1_x86_64.manylinux_2_17_x86_64.manylinux2014_x86_64.whl (242 kB)\n",
      "\u001b[K     |████████████████████████████████| 242 kB 99.9 MB/s eta 0:00:01\n",
      "\u001b[?25hCollecting yarl<2.0,>=1.17.0\n",
      "  Downloading yarl-1.18.3-cp39-cp39-manylinux_2_17_x86_64.manylinux2014_x86_64.whl (321 kB)\n",
      "\u001b[K     |████████████████████████████████| 321 kB 91.9 MB/s eta 0:00:01\n",
      "\u001b[?25hCollecting async-timeout<6.0,>=4.0\n",
      "  Downloading async_timeout-5.0.1-py3-none-any.whl (6.2 kB)\n",
      "Collecting propcache>=0.2.0\n",
      "  Downloading propcache-0.2.1-cp39-cp39-manylinux_2_17_x86_64.manylinux2014_x86_64.whl (208 kB)\n",
      "\u001b[K     |████████████████████████████████| 208 kB 57.8 MB/s eta 0:00:01\n",
      "\u001b[?25hCollecting aiohappyeyeballs>=2.3.0\n",
      "  Downloading aiohappyeyeballs-2.4.4-py3-none-any.whl (14 kB)\n",
      "Requirement already satisfied: attrs>=17.3.0 in /sw/eb/sw/Anaconda3/2021.11/lib/python3.9/site-packages (from aiohttp->torch-geometric->libauc==1.4.0->-r ./iSogCLR/requirements.txt (line 43)) (21.2.0)\n",
      "Collecting multidict<7.0,>=4.5\n",
      "  Downloading multidict-6.1.0-cp39-cp39-manylinux_2_17_x86_64.manylinux2014_x86_64.whl (124 kB)\n",
      "\u001b[K     |████████████████████████████████| 124 kB 95.9 MB/s eta 0:00:01\n",
      "\u001b[?25h"
     ]
    }
   ],
   "source": [
    "# Installing libraries\n",
    "\n",
    "!pip install -r ./iSogCLR/requirements.txt    # there may be pip warnings/ errors, should be fine to ignore them"
   ]
  },
  {
   "cell_type": "markdown",
   "metadata": {
    "id": "11x28L3vV2od"
   },
   "source": [
    "# Training\n",
    "\n",
    "The following command runs the training script to train a ResNet50 (pretrained on ImageNet) and a DistilBERT (pretrained on BookCorpus and English Wikipedia) on the cc3m dataset using the SogCLR loss for 30 epochs with temperature 0.01."
   ]
  },
  {
   "cell_type": "markdown",
   "metadata": {
    "id": "NHsfHktfb883"
   },
   "source": [
    "## isogclr_new_v2 + adamp"
   ]
  },
  {
   "cell_type": "markdown",
   "metadata": {
    "id": "9y3Do55rK8wX"
   },
   "source": [
    "### Training"
   ]
  },
  {
   "cell_type": "code",
   "execution_count": 2,
   "metadata": {
    "colab": {
     "base_uri": "https://localhost:8080/"
    },
    "id": "I4BjOwHiWP2u",
    "outputId": "ff1bf5b1-2752-457a-8470-c9cbeea1afe1"
   },
   "outputs": [
    {
     "name": "stdout",
     "output_type": "stream",
     "text": [
      "Creating retrieval dataset\n",
      "len of train_dataset: 100000\n",
      "len of coco val: 5000\n",
      "Downloading tokenizer_config.json: 100% 48.0/48.0 [00:00<00:00, 286kB/s]\n",
      "Downloading config.json: 100% 483/483 [00:00<00:00, 3.05MB/s]\n",
      "Downloading vocab.txt: 100% 232k/232k [00:00<00:00, 1.10MB/s]\n",
      "Downloading tokenizer.json: 100% 466k/466k [00:00<00:00, 32.8MB/s]\n",
      "Creating model\n",
      "Downloading model.safetensors: 100% 102M/102M [00:00<00:00, 237MB/s] \n",
      "Downloading model.safetensors: 100% 268M/268M [00:01<00:00, 241MB/s]\n",
      "Start training\n",
      "Traceback (most recent call last):\n",
      "  File \"/content/./iSogCLR/bimodal_exps/clip.py\", line 710, in <module>\n",
      "    main(args)\n",
      "  File \"/content/./iSogCLR/bimodal_exps/clip.py\", line 501, in main\n",
      "    train_stats = train(model, train_loader, optimizer, tokenizer, epoch, max_epoch, warmup_steps, device, lr_scheduler, \n",
      "  File \"/content/./iSogCLR/bimodal_exps/clip.py\", line 66, in train\n",
      "    for i,(image, text, idx, text_idx) in enumerate(metric_logger.log_every(data_loader, print_freq, header)):\n",
      "  File \"/content/iSogCLR/bimodal_exps/utils.py\", line 137, in log_every\n",
      "    for obj in iterable:\n",
      "  File \"/usr/local/lib/python3.10/dist-packages/torch/utils/data/dataloader.py\", line 701, in __next__\n",
      "    data = self._next_data()\n",
      "  File \"/usr/local/lib/python3.10/dist-packages/torch/utils/data/dataloader.py\", line 1465, in _next_data\n",
      "    return self._process_data(data)\n",
      "  File \"/usr/local/lib/python3.10/dist-packages/torch/utils/data/dataloader.py\", line 1491, in _process_data\n",
      "    data.reraise()\n",
      "  File \"/usr/local/lib/python3.10/dist-packages/torch/_utils.py\", line 715, in reraise\n",
      "    raise exception\n",
      "FileNotFoundError: Caught FileNotFoundError in DataLoader worker process 0.\n",
      "Original Traceback (most recent call last):\n",
      "  File \"/usr/local/lib/python3.10/dist-packages/torch/utils/data/_utils/worker.py\", line 351, in _worker_loop\n",
      "    data = fetcher.fetch(index)  # type: ignore[possibly-undefined]\n",
      "  File \"/usr/local/lib/python3.10/dist-packages/torch/utils/data/_utils/fetch.py\", line 50, in fetch\n",
      "    data = self.dataset.__getitems__(possibly_batched_index)\n",
      "  File \"/usr/local/lib/python3.10/dist-packages/torch/utils/data/dataset.py\", line 420, in __getitems__\n",
      "    return [self.dataset[self.indices[idx]] for idx in indices]\n",
      "  File \"/usr/local/lib/python3.10/dist-packages/torch/utils/data/dataset.py\", line 420, in <listcomp>\n",
      "    return [self.dataset[self.indices[idx]] for idx in indices]\n",
      "  File \"/content/iSogCLR/bimodal_exps/dataset/caption_dataset.py\", line 40, in __getitem__\n",
      "    image = Image.open(image_path).convert('RGB')\n",
      "  File \"/usr/local/lib/python3.10/dist-packages/PIL/Image.py\", line 3469, in open\n",
      "    fp = builtins.open(filename, \"rb\")\n",
      "FileNotFoundError: [Errno 2] No such file or directory: '/content/datasets/cc3m_subset_100k/cc_data/train/522/884522.jpg'\n",
      "\n"
     ]
    }
   ],
   "source": [
    "!CUDA_VISIBLE_DEVICES=0 python ./iSogCLR/bimodal_exps/clip.py \\\n",
    "    --data_path ./datasets \\\n",
    "    --ann_path ./clip_train \\\n",
    "    --train_file cc3m_train_subset.json \\\n",
    "    --train_image_root cc3m_subset_100k \\\n",
    "    --output_dir output/isogclr_new_v2_and_adamp \\\n",
    "    --init_model \\\n",
    "    --use_amp \\\n",
    "    --ita_type isogclr_new_v2 \\\n",
    "    --tau_init 0.01 \\\n",
    "    --sogclr_gamma 0.8 \\\n",
    "    --eta_init 0.03 --sched cosine \\\n",
    "    --no-distributed \\\n",
    "    --epochs 30 \\\n",
    "    --opt adamp"
   ]
  },
  {
   "cell_type": "markdown",
   "metadata": {
    "id": "kmCh9QFuWx-t"
   },
   "source": [
    "### Evaluation\n",
    "\n",
    "The following command runs the evaluation script to evaluate the retrieval performance of the trained model on the MSCOCO validation dataset and the zero-shot classification performance on the ImageNet validation dataset. The evaluation command is obtained by appending `--evaluate --checkpoint /path/to/your/checkpoint --zs_dataset imagenet --zs_datafolder /path/to/imagenet/val` to the training command."
   ]
  },
  {
   "cell_type": "code",
   "execution_count": null,
   "metadata": {
    "id": "OdSq-cQwoork"
   },
   "outputs": [],
   "source": [
    "!CUDA_VISIBLE_DEVICES=0 python ./iSogCLR/bimodal_exps/clip.py \\\n",
    "    --data_path ./datasets \\\n",
    "    --ann_path ./clip_train \\\n",
    "    --train_file cc3m_train_subset.json \\\n",
    "    --train_image_root cc3m_subset_100k \\\n",
    "    --output_dir output/isogclr_new_v2_and_adamp \\\n",
    "    --init_model \\\n",
    "    --use_amp \\\n",
    "    --ita_type isogclr_new_v2 \\\n",
    "    --tau_init 0.01 \\\n",
    "    --sogclr_gamma 0.8 \\\n",
    "    --eta_init 0.03 --sched cosine \\\n",
    "    --no-distributed \\\n",
    "    --epochs 30 \\\n",
    "    --evaluate --checkpoint './output/isogclr_new_v2_and_adamp/checkpoint_30.pth' \\\n",
    "    --zs_dataset imagenet --zs_datafolder ./datasets/imagenet/val"
   ]
  },
  {
   "cell_type": "markdown",
   "metadata": {
    "id": "B4tw47loXXPK"
   },
   "source": [
    "### Benchmarks\n",
    "\n",
    "The following results are recall at 1 results on the provided MSCOCO and ImageNet datasets. The first row of results are from the model trained using the CLIP loss, and the second row of results are from the model trained using the SogCLR loss. All results are based on a batch size of 128 for 30-epoch pretraining. IR@1 denotes the recall at 1 of image retrieval on MSCOCO, TR@1 denotes the recall at 1 of text retrieval on MSCOCO, and ACC@1 denotes the top 1 accuracy on ImageNet. Average denotes the average of the three metrics.\n",
    "\n",
    "| Method | MSCOCO TR@1 | MSCOCO IR@1 | ImageNet ACC@1 | Average |\n",
    "|:----------:|:--------:|:--------:|:--------:|:--------:|\n",
    "| CLIP | 12.0 | 9.32 | 21.35 | 14.22 |\n",
    "| SogCLR |  14.38  |  10.73  | 24.54 | 16.55 |"
   ]
  }
 ],
 "metadata": {
  "accelerator": "GPU",
  "colab": {
   "gpuType": "T4",
   "machine_shape": "hm",
   "provenance": []
  },
  "kernelspec": {
   "display_name": "Python 3 (ipykernel)",
   "language": "python",
   "name": "python3"
  },
  "language_info": {
   "codemirror_mode": {
    "name": "ipython",
    "version": 3
   },
   "file_extension": ".py",
   "mimetype": "text/x-python",
   "name": "python",
   "nbconvert_exporter": "python",
   "pygments_lexer": "ipython3",
   "version": "3.9.7"
  }
 },
 "nbformat": 4,
 "nbformat_minor": 4
}
